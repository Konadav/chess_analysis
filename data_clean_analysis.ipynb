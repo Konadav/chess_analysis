{
 "cells": [
  {
   "cell_type": "code",
   "execution_count": 1,
   "id": "6ba90f21",
   "metadata": {
    "scrolled": false
   },
   "outputs": [],
   "source": [
    "import pandas as pd\n",
    "import matplotlib.pyplot as plt\n",
    "import csv"
   ]
  },
  {
   "cell_type": "code",
   "execution_count": 2,
   "id": "c2ec37e0",
   "metadata": {
    "scrolled": false
   },
   "outputs": [
    {
     "data": {
      "text/html": [
       "<div>\n",
       "<style scoped>\n",
       "    .dataframe tbody tr th:only-of-type {\n",
       "        vertical-align: middle;\n",
       "    }\n",
       "\n",
       "    .dataframe tbody tr th {\n",
       "        vertical-align: top;\n",
       "    }\n",
       "\n",
       "    .dataframe thead th {\n",
       "        text-align: right;\n",
       "    }\n",
       "</style>\n",
       "<table border=\"1\" class=\"dataframe\">\n",
       "  <thead>\n",
       "    <tr style=\"text-align: right;\">\n",
       "      <th></th>\n",
       "      <th>game_id</th>\n",
       "      <th>game_order</th>\n",
       "      <th>event</th>\n",
       "      <th>site</th>\n",
       "      <th>date_played</th>\n",
       "      <th>round</th>\n",
       "      <th>white</th>\n",
       "      <th>black</th>\n",
       "      <th>result</th>\n",
       "      <th>white_elo</th>\n",
       "      <th>...</th>\n",
       "      <th>winner_loser_elo_diff</th>\n",
       "      <th>eco</th>\n",
       "      <th>termination</th>\n",
       "      <th>time_control</th>\n",
       "      <th>utc_date</th>\n",
       "      <th>utc_time</th>\n",
       "      <th>variant</th>\n",
       "      <th>ply_count</th>\n",
       "      <th>date_created</th>\n",
       "      <th>file_name</th>\n",
       "    </tr>\n",
       "  </thead>\n",
       "  <tbody>\n",
       "    <tr>\n",
       "      <th>0</th>\n",
       "      <td>58887a86-5c84-45ac-b959-c72377a2dfd3</td>\n",
       "      <td>1</td>\n",
       "      <td>Rated Rapid game</td>\n",
       "      <td>https://lichess.org/hvfE6FOz</td>\n",
       "      <td>2021.09.22</td>\n",
       "      <td>?</td>\n",
       "      <td>awfedorable</td>\n",
       "      <td>K0P0L0</td>\n",
       "      <td>0-1</td>\n",
       "      <td>1963</td>\n",
       "      <td>...</td>\n",
       "      <td>-74</td>\n",
       "      <td>B33</td>\n",
       "      <td>Normal</td>\n",
       "      <td>600+0</td>\n",
       "      <td>2021.09.22</td>\n",
       "      <td>18:21:58</td>\n",
       "      <td>Standard</td>\n",
       "      <td>NaN</td>\n",
       "      <td>2021-09-23T06:37:01+0000</td>\n",
       "      <td>game.pgn</td>\n",
       "    </tr>\n",
       "    <tr>\n",
       "      <th>1</th>\n",
       "      <td>aadc9778-0bad-4f79-90c5-569e09efb592</td>\n",
       "      <td>2</td>\n",
       "      <td>Rated Rapid game</td>\n",
       "      <td>https://lichess.org/7TtUO2i1</td>\n",
       "      <td>2021.09.22</td>\n",
       "      <td>?</td>\n",
       "      <td>K0P0L0</td>\n",
       "      <td>kaffeberra</td>\n",
       "      <td>1-0</td>\n",
       "      <td>1883</td>\n",
       "      <td>...</td>\n",
       "      <td>37</td>\n",
       "      <td>C41</td>\n",
       "      <td>Normal</td>\n",
       "      <td>600+0</td>\n",
       "      <td>2021.09.22</td>\n",
       "      <td>18:12:31</td>\n",
       "      <td>Standard</td>\n",
       "      <td>NaN</td>\n",
       "      <td>2021-09-23T06:37:01+0000</td>\n",
       "      <td>game.pgn</td>\n",
       "    </tr>\n",
       "    <tr>\n",
       "      <th>2</th>\n",
       "      <td>1095f764-8e18-4a29-a9fd-6e9e497a5314</td>\n",
       "      <td>3</td>\n",
       "      <td>Rated Rapid game</td>\n",
       "      <td>https://lichess.org/xNfCZlPq</td>\n",
       "      <td>2021.09.22</td>\n",
       "      <td>?</td>\n",
       "      <td>K0P0L0</td>\n",
       "      <td>amingh68</td>\n",
       "      <td>1-0</td>\n",
       "      <td>1878</td>\n",
       "      <td>...</td>\n",
       "      <td>28</td>\n",
       "      <td>B12</td>\n",
       "      <td>Normal</td>\n",
       "      <td>600+0</td>\n",
       "      <td>2021.09.22</td>\n",
       "      <td>18:00:24</td>\n",
       "      <td>Standard</td>\n",
       "      <td>NaN</td>\n",
       "      <td>2021-09-23T06:37:01+0000</td>\n",
       "      <td>game.pgn</td>\n",
       "    </tr>\n",
       "    <tr>\n",
       "      <th>3</th>\n",
       "      <td>44978ca9-381d-484b-a372-c7f6a16dc125</td>\n",
       "      <td>4</td>\n",
       "      <td>Rated Rapid game</td>\n",
       "      <td>https://lichess.org/9yvXxjGy</td>\n",
       "      <td>2021.09.22</td>\n",
       "      <td>?</td>\n",
       "      <td>K0P0L0</td>\n",
       "      <td>synergylove</td>\n",
       "      <td>1-0</td>\n",
       "      <td>1871</td>\n",
       "      <td>...</td>\n",
       "      <td>-53</td>\n",
       "      <td>B12</td>\n",
       "      <td>Normal</td>\n",
       "      <td>600+0</td>\n",
       "      <td>2021.09.22</td>\n",
       "      <td>17:44:10</td>\n",
       "      <td>Standard</td>\n",
       "      <td>NaN</td>\n",
       "      <td>2021-09-23T06:37:01+0000</td>\n",
       "      <td>game.pgn</td>\n",
       "    </tr>\n",
       "    <tr>\n",
       "      <th>4</th>\n",
       "      <td>7facda9f-1d81-4bc3-9f85-d607a17eca72</td>\n",
       "      <td>5</td>\n",
       "      <td>Rated Rapid game</td>\n",
       "      <td>https://lichess.org/SjlKy449</td>\n",
       "      <td>2021.09.22</td>\n",
       "      <td>?</td>\n",
       "      <td>Bakery_Maggot</td>\n",
       "      <td>K0P0L0</td>\n",
       "      <td>1-0</td>\n",
       "      <td>1850</td>\n",
       "      <td>...</td>\n",
       "      <td>-27</td>\n",
       "      <td>A46</td>\n",
       "      <td>Normal</td>\n",
       "      <td>600+0</td>\n",
       "      <td>2021.09.22</td>\n",
       "      <td>17:36:25</td>\n",
       "      <td>Standard</td>\n",
       "      <td>NaN</td>\n",
       "      <td>2021-09-23T06:37:01+0000</td>\n",
       "      <td>game.pgn</td>\n",
       "    </tr>\n",
       "  </tbody>\n",
       "</table>\n",
       "<p>5 rows × 29 columns</p>\n",
       "</div>"
      ],
      "text/plain": [
       "                                game_id  game_order             event  \\\n",
       "0  58887a86-5c84-45ac-b959-c72377a2dfd3           1  Rated Rapid game   \n",
       "1  aadc9778-0bad-4f79-90c5-569e09efb592           2  Rated Rapid game   \n",
       "2  1095f764-8e18-4a29-a9fd-6e9e497a5314           3  Rated Rapid game   \n",
       "3  44978ca9-381d-484b-a372-c7f6a16dc125           4  Rated Rapid game   \n",
       "4  7facda9f-1d81-4bc3-9f85-d607a17eca72           5  Rated Rapid game   \n",
       "\n",
       "                           site date_played round          white        black  \\\n",
       "0  https://lichess.org/hvfE6FOz  2021.09.22     ?    awfedorable       K0P0L0   \n",
       "1  https://lichess.org/7TtUO2i1  2021.09.22     ?         K0P0L0   kaffeberra   \n",
       "2  https://lichess.org/xNfCZlPq  2021.09.22     ?         K0P0L0     amingh68   \n",
       "3  https://lichess.org/9yvXxjGy  2021.09.22     ?         K0P0L0  synergylove   \n",
       "4  https://lichess.org/SjlKy449  2021.09.22     ?  Bakery_Maggot       K0P0L0   \n",
       "\n",
       "  result white_elo  ...  winner_loser_elo_diff  eco  termination  \\\n",
       "0    0-1      1963  ...                    -74  B33       Normal   \n",
       "1    1-0      1883  ...                     37  C41       Normal   \n",
       "2    1-0      1878  ...                     28  B12       Normal   \n",
       "3    1-0      1871  ...                    -53  B12       Normal   \n",
       "4    1-0      1850  ...                    -27  A46       Normal   \n",
       "\n",
       "   time_control    utc_date  utc_time   variant ply_count  \\\n",
       "0         600+0  2021.09.22  18:21:58  Standard       NaN   \n",
       "1         600+0  2021.09.22  18:12:31  Standard       NaN   \n",
       "2         600+0  2021.09.22  18:00:24  Standard       NaN   \n",
       "3         600+0  2021.09.22  17:44:10  Standard       NaN   \n",
       "4         600+0  2021.09.22  17:36:25  Standard       NaN   \n",
       "\n",
       "               date_created  file_name  \n",
       "0  2021-09-23T06:37:01+0000   game.pgn  \n",
       "1  2021-09-23T06:37:01+0000   game.pgn  \n",
       "2  2021-09-23T06:37:01+0000   game.pgn  \n",
       "3  2021-09-23T06:37:01+0000   game.pgn  \n",
       "4  2021-09-23T06:37:01+0000   game.pgn  \n",
       "\n",
       "[5 rows x 29 columns]"
      ]
     },
     "execution_count": 2,
     "metadata": {},
     "output_type": "execute_result"
    }
   ],
   "source": [
    "# Import games data\n",
    "df_games = pd.read_csv('/Users/koplo/Documents/chess_analysis_proj/game_game_info.csv')\n",
    "df_games.head()"
   ]
  },
  {
   "cell_type": "code",
   "execution_count": 3,
   "id": "363ea295",
   "metadata": {
    "scrolled": false
   },
   "outputs": [
    {
     "data": {
      "text/plain": [
       "Index(['game_id', 'game_order', 'event', 'site', 'date_played', 'round',\n",
       "       'white', 'black', 'result', 'white_elo', 'white_rating_diff',\n",
       "       'black_elo', 'black_rating_diff', 'white_title', 'black_title',\n",
       "       'winner', 'winner_elo', 'loser', 'loser_elo', 'winner_loser_elo_diff',\n",
       "       'eco', 'termination', 'time_control', 'utc_date', 'utc_time', 'variant',\n",
       "       'ply_count', 'date_created', 'file_name'],\n",
       "      dtype='object')"
      ]
     },
     "execution_count": 3,
     "metadata": {},
     "output_type": "execute_result"
    }
   ],
   "source": [
    "df_games.columns"
   ]
  },
  {
   "cell_type": "code",
   "execution_count": 4,
   "id": "45f16c0e",
   "metadata": {
    "scrolled": false
   },
   "outputs": [
    {
     "data": {
      "text/plain": [
       "event\n",
       "Rated Blitz game        6117\n",
       "Rated Bullet game        455\n",
       "Rated Rapid game         198\n",
       "Rated Classical game      12\n",
       "dtype: int64"
      ]
     },
     "execution_count": 4,
     "metadata": {},
     "output_type": "execute_result"
    }
   ],
   "source": [
    "# Clean the dataframe from unnecessary events\n",
    "df_games = df_games[((df_games['event'] == 'Rated Blitz game') \n",
    "    | (df_games['event'] == 'Rated Bullet game')\n",
    "    | (df_games['event'] == 'Rated Rapid game') \n",
    "    | (df_games['event'] == 'Rated Classical game'))]\n",
    "df_games.value_counts('event')"
   ]
  },
  {
   "cell_type": "code",
   "execution_count": 5,
   "id": "4df0658c",
   "metadata": {
    "scrolled": false
   },
   "outputs": [
    {
     "data": {
      "text/plain": [
       "game_id                   object\n",
       "game_order                 int64\n",
       "event                     object\n",
       "site                      object\n",
       "date_played               object\n",
       "round                     object\n",
       "white                     object\n",
       "black                     object\n",
       "result                    object\n",
       "white_elo                 object\n",
       "white_rating_diff        float64\n",
       "black_elo                 object\n",
       "black_rating_diff        float64\n",
       "white_title              float64\n",
       "black_title              float64\n",
       "winner                    object\n",
       "winner_elo                object\n",
       "loser                     object\n",
       "loser_elo                 object\n",
       "winner_loser_elo_diff      int64\n",
       "eco                       object\n",
       "termination               object\n",
       "time_control              object\n",
       "utc_date                  object\n",
       "utc_time                  object\n",
       "variant                   object\n",
       "ply_count                float64\n",
       "date_created              object\n",
       "file_name                 object\n",
       "dtype: object"
      ]
     },
     "execution_count": 5,
     "metadata": {},
     "output_type": "execute_result"
    }
   ],
   "source": [
    "df_games.dtypes"
   ]
  },
  {
   "cell_type": "code",
   "execution_count": 6,
   "id": "fea698d5",
   "metadata": {
    "scrolled": false
   },
   "outputs": [
    {
     "data": {
      "text/plain": [
       "game_id                   object\n",
       "game_order                 int64\n",
       "event                     object\n",
       "site                      object\n",
       "date_played               object\n",
       "round                     object\n",
       "white                     object\n",
       "black                     object\n",
       "result                    object\n",
       "white_elo                  int64\n",
       "white_rating_diff        float64\n",
       "black_elo                  int64\n",
       "black_rating_diff        float64\n",
       "white_title              float64\n",
       "black_title              float64\n",
       "winner                    object\n",
       "winner_elo               float64\n",
       "loser                     object\n",
       "loser_elo                float64\n",
       "winner_loser_elo_diff      int64\n",
       "eco                       object\n",
       "termination               object\n",
       "time_control              object\n",
       "utc_date                  object\n",
       "utc_time                  object\n",
       "variant                   object\n",
       "ply_count                float64\n",
       "date_created              object\n",
       "file_name                 object\n",
       "dtype: object"
      ]
     },
     "execution_count": 6,
     "metadata": {},
     "output_type": "execute_result"
    }
   ],
   "source": [
    "# Set columns to correct types\n",
    "df_games[['white_elo', 'black_elo', 'winner_elo', 'loser_elo']] = df_games[['white_elo', 'black_elo',\n",
    "                                                                'winner_elo', 'loser_elo']].apply(pd.to_numeric)\n",
    "df_games.dtypes"
   ]
  },
  {
   "cell_type": "code",
   "execution_count": 7,
   "id": "c5f7c493",
   "metadata": {
    "scrolled": false
   },
   "outputs": [
    {
     "data": {
      "text/plain": [
       "0                      Sicilian\n",
       "1              Philidor Defense\n",
       "2             Caro-Kann Defense\n",
       "3             Caro-Kann Defense\n",
       "4             Queen's Pawn Game\n",
       "                 ...           \n",
       "6888               Scandinavian\n",
       "6889               Scandinavian\n",
       "6890    Sicilian, 2.f4 and 2.d4\n",
       "6891    Queen's Gambit Declined\n",
       "6892           Philidor Defense\n",
       "Name: opening, Length: 6782, dtype: object"
      ]
     },
     "execution_count": 7,
     "metadata": {},
     "output_type": "execute_result"
    }
   ],
   "source": [
    "# Add opening name from eco code\n",
    "file = '/Users/koplo/Documents/chess_analysis_proj/chess_openings.csv'\n",
    "openings_dict = {rows[0]:rows[1] for rows in csv.reader(open(file))}\n",
    "df_games['opening'] = df_games['eco'].apply(lambda row: openings_dict.get(row))\n",
    "df_games['opening']"
   ]
  },
  {
   "cell_type": "code",
   "execution_count": 8,
   "id": "9df8dc48",
   "metadata": {
    "scrolled": false
   },
   "outputs": [
    {
     "data": {
      "text/plain": [
       "Index(['game_id', 'game_order', 'event', 'site', 'date_played', 'round',\n",
       "       'white', 'black', 'result', 'white_elo', 'white_rating_diff',\n",
       "       'black_elo', 'black_rating_diff', 'white_title', 'black_title',\n",
       "       'winner', 'winner_elo', 'loser', 'loser_elo', 'winner_loser_elo_diff',\n",
       "       'eco', 'termination', 'time_control', 'utc_date', 'utc_time', 'variant',\n",
       "       'ply_count', 'date_created', 'file_name', 'opening', 'result_type',\n",
       "       'elo_diff', 'white_opening', 'black_opening', 'my_elo', 'my_color',\n",
       "       'elo_diff_range'],\n",
       "      dtype='object')"
      ]
     },
     "execution_count": 8,
     "metadata": {},
     "output_type": "execute_result"
    }
   ],
   "source": [
    "# Add useful columns to the dataframe\n",
    "username = 'K0P0L0'\n",
    "def label_result_type(row):\n",
    "    if row['winner'] == username:\n",
    "        return 'win'\n",
    "    if row['winner'] == 'draw':\n",
    "        return 'draw'\n",
    "    return 'loss'\n",
    "def label_elo_diff(row):\n",
    "    if row['white'] == username:\n",
    "        return row['white_elo'] - row['black_elo']\n",
    "    return row['black_elo'] - row['white_elo']\n",
    "def label_opening(row, color):\n",
    "    if row[color] == username:\n",
    "        return row['opening']\n",
    "    return None\n",
    "def my_elo(row):\n",
    "    if row['white'] == username:\n",
    "        return row['white_elo']\n",
    "    return row['black_elo']\n",
    "def my_color(row):\n",
    "    if row['white'] == username:\n",
    "        return 'white'\n",
    "    return 'black'\n",
    "def elo_diff_range(row):\n",
    "    if row['elo_diff'] < -20.0:\n",
    "        return 'less than -20'\n",
    "    elif row['elo_diff'] >= -20.0 and row['elo_diff'] < 0.0:\n",
    "        return '-20 - 0'\n",
    "    elif row['elo_diff'] >= 0.0 and row['elo_diff'] < 20.0:\n",
    "        return '0 - 20'\n",
    "    elif row['elo_diff'] >= 20.0:\n",
    "        return 'more than 20'\n",
    "\n",
    "df_games['result_type'] = df_games.apply(label_result_type, axis = 1)\n",
    "df_games['elo_diff'] = df_games.apply(label_elo_diff, axis = 1)\n",
    "df_games['white_opening'] = df_games.apply(lambda row: label_opening(row, 'white'), axis = 1)\n",
    "df_games['black_opening'] = df_games.apply(lambda row: label_opening(row, 'black'), axis = 1) \n",
    "df_games['my_elo'] = df_games.apply(my_elo, axis = 1)\n",
    "df_games['my_color'] = df_games.apply(my_color, axis = 1)\n",
    "df_games['elo_diff_range'] = df_games.apply(elo_diff_range, axis = 1)\n",
    "df_games.columns"
   ]
  },
  {
   "cell_type": "code",
   "execution_count": 9,
   "id": "6d66cc9f",
   "metadata": {
    "scrolled": false
   },
   "outputs": [
    {
     "data": {
      "text/html": [
       "<div>\n",
       "<style scoped>\n",
       "    .dataframe tbody tr th:only-of-type {\n",
       "        vertical-align: middle;\n",
       "    }\n",
       "\n",
       "    .dataframe tbody tr th {\n",
       "        vertical-align: top;\n",
       "    }\n",
       "\n",
       "    .dataframe thead th {\n",
       "        text-align: right;\n",
       "    }\n",
       "</style>\n",
       "<table border=\"1\" class=\"dataframe\">\n",
       "  <thead>\n",
       "    <tr style=\"text-align: right;\">\n",
       "      <th></th>\n",
       "      <th>game_id</th>\n",
       "      <th>move_no</th>\n",
       "      <th>move_no_pair</th>\n",
       "      <th>player</th>\n",
       "      <th>notation</th>\n",
       "      <th>move</th>\n",
       "      <th>from_square</th>\n",
       "      <th>to_square</th>\n",
       "      <th>piece</th>\n",
       "      <th>color</th>\n",
       "      <th>...</th>\n",
       "      <th>fen_row1_black_value</th>\n",
       "      <th>fen_row2_black_value</th>\n",
       "      <th>fen_row3_black_value</th>\n",
       "      <th>fen_row4_black_value</th>\n",
       "      <th>fen_row5_black_value</th>\n",
       "      <th>fen_row6_black_value</th>\n",
       "      <th>fen_row7_black_value</th>\n",
       "      <th>fen_row8_black_value</th>\n",
       "      <th>move_sequence</th>\n",
       "      <th>evaluation</th>\n",
       "    </tr>\n",
       "  </thead>\n",
       "  <tbody>\n",
       "    <tr>\n",
       "      <th>0</th>\n",
       "      <td>58887a86-5c84-45ac-b959-c72377a2dfd3</td>\n",
       "      <td>1</td>\n",
       "      <td>1</td>\n",
       "      <td>awfedorable</td>\n",
       "      <td>e4</td>\n",
       "      <td>e2e4</td>\n",
       "      <td>e2</td>\n",
       "      <td>e4</td>\n",
       "      <td>P</td>\n",
       "      <td>White</td>\n",
       "      <td>...</td>\n",
       "      <td>0</td>\n",
       "      <td>0</td>\n",
       "      <td>0</td>\n",
       "      <td>0</td>\n",
       "      <td>0</td>\n",
       "      <td>0</td>\n",
       "      <td>8</td>\n",
       "      <td>31</td>\n",
       "      <td>e4</td>\n",
       "      <td>+43</td>\n",
       "    </tr>\n",
       "    <tr>\n",
       "      <th>1</th>\n",
       "      <td>58887a86-5c84-45ac-b959-c72377a2dfd3</td>\n",
       "      <td>2</td>\n",
       "      <td>1</td>\n",
       "      <td>K0P0L0</td>\n",
       "      <td>c5</td>\n",
       "      <td>c7c5</td>\n",
       "      <td>c7</td>\n",
       "      <td>c5</td>\n",
       "      <td>P</td>\n",
       "      <td>Black</td>\n",
       "      <td>...</td>\n",
       "      <td>0</td>\n",
       "      <td>0</td>\n",
       "      <td>0</td>\n",
       "      <td>0</td>\n",
       "      <td>1</td>\n",
       "      <td>0</td>\n",
       "      <td>7</td>\n",
       "      <td>31</td>\n",
       "      <td>e4|c5</td>\n",
       "      <td>+34</td>\n",
       "    </tr>\n",
       "    <tr>\n",
       "      <th>2</th>\n",
       "      <td>58887a86-5c84-45ac-b959-c72377a2dfd3</td>\n",
       "      <td>3</td>\n",
       "      <td>2</td>\n",
       "      <td>awfedorable</td>\n",
       "      <td>Nf3</td>\n",
       "      <td>g1f3</td>\n",
       "      <td>g1</td>\n",
       "      <td>f3</td>\n",
       "      <td>N</td>\n",
       "      <td>White</td>\n",
       "      <td>...</td>\n",
       "      <td>0</td>\n",
       "      <td>0</td>\n",
       "      <td>0</td>\n",
       "      <td>0</td>\n",
       "      <td>1</td>\n",
       "      <td>0</td>\n",
       "      <td>7</td>\n",
       "      <td>31</td>\n",
       "      <td>e4|c5|Nf3</td>\n",
       "      <td>+14</td>\n",
       "    </tr>\n",
       "    <tr>\n",
       "      <th>3</th>\n",
       "      <td>58887a86-5c84-45ac-b959-c72377a2dfd3</td>\n",
       "      <td>4</td>\n",
       "      <td>2</td>\n",
       "      <td>K0P0L0</td>\n",
       "      <td>Nc6</td>\n",
       "      <td>b8c6</td>\n",
       "      <td>b8</td>\n",
       "      <td>c6</td>\n",
       "      <td>N</td>\n",
       "      <td>Black</td>\n",
       "      <td>...</td>\n",
       "      <td>0</td>\n",
       "      <td>0</td>\n",
       "      <td>0</td>\n",
       "      <td>0</td>\n",
       "      <td>1</td>\n",
       "      <td>3</td>\n",
       "      <td>7</td>\n",
       "      <td>28</td>\n",
       "      <td>e4|c5|Nf3|Nc6</td>\n",
       "      <td>+35</td>\n",
       "    </tr>\n",
       "    <tr>\n",
       "      <th>4</th>\n",
       "      <td>58887a86-5c84-45ac-b959-c72377a2dfd3</td>\n",
       "      <td>5</td>\n",
       "      <td>3</td>\n",
       "      <td>awfedorable</td>\n",
       "      <td>d4</td>\n",
       "      <td>d2d4</td>\n",
       "      <td>d2</td>\n",
       "      <td>d4</td>\n",
       "      <td>P</td>\n",
       "      <td>White</td>\n",
       "      <td>...</td>\n",
       "      <td>0</td>\n",
       "      <td>0</td>\n",
       "      <td>0</td>\n",
       "      <td>0</td>\n",
       "      <td>1</td>\n",
       "      <td>3</td>\n",
       "      <td>7</td>\n",
       "      <td>28</td>\n",
       "      <td>e4|c5|Nf3|Nc6|d4</td>\n",
       "      <td>+52</td>\n",
       "    </tr>\n",
       "    <tr>\n",
       "      <th>...</th>\n",
       "      <td>...</td>\n",
       "      <td>...</td>\n",
       "      <td>...</td>\n",
       "      <td>...</td>\n",
       "      <td>...</td>\n",
       "      <td>...</td>\n",
       "      <td>...</td>\n",
       "      <td>...</td>\n",
       "      <td>...</td>\n",
       "      <td>...</td>\n",
       "      <td>...</td>\n",
       "      <td>...</td>\n",
       "      <td>...</td>\n",
       "      <td>...</td>\n",
       "      <td>...</td>\n",
       "      <td>...</td>\n",
       "      <td>...</td>\n",
       "      <td>...</td>\n",
       "      <td>...</td>\n",
       "      <td>...</td>\n",
       "      <td>...</td>\n",
       "    </tr>\n",
       "    <tr>\n",
       "      <th>394976</th>\n",
       "      <td>adc13912-c27f-4342-b2b8-1c101f912eb4</td>\n",
       "      <td>74</td>\n",
       "      <td>37</td>\n",
       "      <td>rezamaku</td>\n",
       "      <td>Qc1+</td>\n",
       "      <td>c4c1</td>\n",
       "      <td>c4</td>\n",
       "      <td>c1</td>\n",
       "      <td>Q</td>\n",
       "      <td>Black</td>\n",
       "      <td>...</td>\n",
       "      <td>9</td>\n",
       "      <td>0</td>\n",
       "      <td>0</td>\n",
       "      <td>0</td>\n",
       "      <td>0</td>\n",
       "      <td>4</td>\n",
       "      <td>2</td>\n",
       "      <td>0</td>\n",
       "      <td>e4|e5|Nf3|d6|Be2|Be7|O-O|Nf6|d4|exd4|Nxd4|c5|N...</td>\n",
       "      <td>#-2</td>\n",
       "    </tr>\n",
       "    <tr>\n",
       "      <th>394977</th>\n",
       "      <td>adc13912-c27f-4342-b2b8-1c101f912eb4</td>\n",
       "      <td>75</td>\n",
       "      <td>38</td>\n",
       "      <td>K0P0L0</td>\n",
       "      <td>Rd1</td>\n",
       "      <td>d6d1</td>\n",
       "      <td>d6</td>\n",
       "      <td>d1</td>\n",
       "      <td>R</td>\n",
       "      <td>White</td>\n",
       "      <td>...</td>\n",
       "      <td>9</td>\n",
       "      <td>0</td>\n",
       "      <td>0</td>\n",
       "      <td>0</td>\n",
       "      <td>0</td>\n",
       "      <td>4</td>\n",
       "      <td>2</td>\n",
       "      <td>0</td>\n",
       "      <td>e4|e5|Nf3|d6|Be2|Be7|O-O|Nf6|d4|exd4|Nxd4|c5|N...</td>\n",
       "      <td>#-2</td>\n",
       "    </tr>\n",
       "    <tr>\n",
       "      <th>394978</th>\n",
       "      <td>adc13912-c27f-4342-b2b8-1c101f912eb4</td>\n",
       "      <td>76</td>\n",
       "      <td>38</td>\n",
       "      <td>rezamaku</td>\n",
       "      <td>Qxd1+</td>\n",
       "      <td>c1d1</td>\n",
       "      <td>c1</td>\n",
       "      <td>d1</td>\n",
       "      <td>Q</td>\n",
       "      <td>Black</td>\n",
       "      <td>...</td>\n",
       "      <td>9</td>\n",
       "      <td>0</td>\n",
       "      <td>0</td>\n",
       "      <td>0</td>\n",
       "      <td>0</td>\n",
       "      <td>4</td>\n",
       "      <td>2</td>\n",
       "      <td>0</td>\n",
       "      <td>e4|e5|Nf3|d6|Be2|Be7|O-O|Nf6|d4|exd4|Nxd4|c5|N...</td>\n",
       "      <td>#-1</td>\n",
       "    </tr>\n",
       "    <tr>\n",
       "      <th>394979</th>\n",
       "      <td>adc13912-c27f-4342-b2b8-1c101f912eb4</td>\n",
       "      <td>77</td>\n",
       "      <td>39</td>\n",
       "      <td>K0P0L0</td>\n",
       "      <td>Ne1</td>\n",
       "      <td>f3e1</td>\n",
       "      <td>f3</td>\n",
       "      <td>e1</td>\n",
       "      <td>N</td>\n",
       "      <td>White</td>\n",
       "      <td>...</td>\n",
       "      <td>9</td>\n",
       "      <td>0</td>\n",
       "      <td>0</td>\n",
       "      <td>0</td>\n",
       "      <td>0</td>\n",
       "      <td>4</td>\n",
       "      <td>2</td>\n",
       "      <td>0</td>\n",
       "      <td>e4|e5|Nf3|d6|Be2|Be7|O-O|Nf6|d4|exd4|Nxd4|c5|N...</td>\n",
       "      <td>#-1</td>\n",
       "    </tr>\n",
       "    <tr>\n",
       "      <th>394980</th>\n",
       "      <td>adc13912-c27f-4342-b2b8-1c101f912eb4</td>\n",
       "      <td>78</td>\n",
       "      <td>39</td>\n",
       "      <td>rezamaku</td>\n",
       "      <td>Qxe1#</td>\n",
       "      <td>d1e1</td>\n",
       "      <td>d1</td>\n",
       "      <td>e1</td>\n",
       "      <td>Q</td>\n",
       "      <td>Black</td>\n",
       "      <td>...</td>\n",
       "      <td>9</td>\n",
       "      <td>0</td>\n",
       "      <td>0</td>\n",
       "      <td>0</td>\n",
       "      <td>0</td>\n",
       "      <td>4</td>\n",
       "      <td>2</td>\n",
       "      <td>0</td>\n",
       "      <td>e4|e5|Nf3|d6|Be2|Be7|O-O|Nf6|d4|exd4|Nxd4|c5|N...</td>\n",
       "      <td>#-0</td>\n",
       "    </tr>\n",
       "  </tbody>\n",
       "</table>\n",
       "<p>394981 rows × 65 columns</p>\n",
       "</div>"
      ],
      "text/plain": [
       "                                     game_id  move_no  move_no_pair  \\\n",
       "0       58887a86-5c84-45ac-b959-c72377a2dfd3        1             1   \n",
       "1       58887a86-5c84-45ac-b959-c72377a2dfd3        2             1   \n",
       "2       58887a86-5c84-45ac-b959-c72377a2dfd3        3             2   \n",
       "3       58887a86-5c84-45ac-b959-c72377a2dfd3        4             2   \n",
       "4       58887a86-5c84-45ac-b959-c72377a2dfd3        5             3   \n",
       "...                                      ...      ...           ...   \n",
       "394976  adc13912-c27f-4342-b2b8-1c101f912eb4       74            37   \n",
       "394977  adc13912-c27f-4342-b2b8-1c101f912eb4       75            38   \n",
       "394978  adc13912-c27f-4342-b2b8-1c101f912eb4       76            38   \n",
       "394979  adc13912-c27f-4342-b2b8-1c101f912eb4       77            39   \n",
       "394980  adc13912-c27f-4342-b2b8-1c101f912eb4       78            39   \n",
       "\n",
       "             player notation  move from_square to_square piece  color  ...  \\\n",
       "0       awfedorable       e4  e2e4          e2        e4     P  White  ...   \n",
       "1            K0P0L0       c5  c7c5          c7        c5     P  Black  ...   \n",
       "2       awfedorable      Nf3  g1f3          g1        f3     N  White  ...   \n",
       "3            K0P0L0      Nc6  b8c6          b8        c6     N  Black  ...   \n",
       "4       awfedorable       d4  d2d4          d2        d4     P  White  ...   \n",
       "...             ...      ...   ...         ...       ...   ...    ...  ...   \n",
       "394976     rezamaku     Qc1+  c4c1          c4        c1     Q  Black  ...   \n",
       "394977       K0P0L0      Rd1  d6d1          d6        d1     R  White  ...   \n",
       "394978     rezamaku    Qxd1+  c1d1          c1        d1     Q  Black  ...   \n",
       "394979       K0P0L0      Ne1  f3e1          f3        e1     N  White  ...   \n",
       "394980     rezamaku    Qxe1#  d1e1          d1        e1     Q  Black  ...   \n",
       "\n",
       "       fen_row1_black_value  fen_row2_black_value  fen_row3_black_value  \\\n",
       "0                         0                     0                     0   \n",
       "1                         0                     0                     0   \n",
       "2                         0                     0                     0   \n",
       "3                         0                     0                     0   \n",
       "4                         0                     0                     0   \n",
       "...                     ...                   ...                   ...   \n",
       "394976                    9                     0                     0   \n",
       "394977                    9                     0                     0   \n",
       "394978                    9                     0                     0   \n",
       "394979                    9                     0                     0   \n",
       "394980                    9                     0                     0   \n",
       "\n",
       "        fen_row4_black_value  fen_row5_black_value  fen_row6_black_value  \\\n",
       "0                          0                     0                     0   \n",
       "1                          0                     1                     0   \n",
       "2                          0                     1                     0   \n",
       "3                          0                     1                     3   \n",
       "4                          0                     1                     3   \n",
       "...                      ...                   ...                   ...   \n",
       "394976                     0                     0                     4   \n",
       "394977                     0                     0                     4   \n",
       "394978                     0                     0                     4   \n",
       "394979                     0                     0                     4   \n",
       "394980                     0                     0                     4   \n",
       "\n",
       "        fen_row7_black_value  fen_row8_black_value  \\\n",
       "0                          8                    31   \n",
       "1                          7                    31   \n",
       "2                          7                    31   \n",
       "3                          7                    28   \n",
       "4                          7                    28   \n",
       "...                      ...                   ...   \n",
       "394976                     2                     0   \n",
       "394977                     2                     0   \n",
       "394978                     2                     0   \n",
       "394979                     2                     0   \n",
       "394980                     2                     0   \n",
       "\n",
       "                                            move_sequence  evaluation  \n",
       "0                                                      e4         +43  \n",
       "1                                                   e4|c5         +34  \n",
       "2                                               e4|c5|Nf3         +14  \n",
       "3                                           e4|c5|Nf3|Nc6         +35  \n",
       "4                                        e4|c5|Nf3|Nc6|d4         +52  \n",
       "...                                                   ...         ...  \n",
       "394976  e4|e5|Nf3|d6|Be2|Be7|O-O|Nf6|d4|exd4|Nxd4|c5|N...         #-2  \n",
       "394977  e4|e5|Nf3|d6|Be2|Be7|O-O|Nf6|d4|exd4|Nxd4|c5|N...         #-2  \n",
       "394978  e4|e5|Nf3|d6|Be2|Be7|O-O|Nf6|d4|exd4|Nxd4|c5|N...         #-1  \n",
       "394979  e4|e5|Nf3|d6|Be2|Be7|O-O|Nf6|d4|exd4|Nxd4|c5|N...         #-1  \n",
       "394980  e4|e5|Nf3|d6|Be2|Be7|O-O|Nf6|d4|exd4|Nxd4|c5|N...         #-0  \n",
       "\n",
       "[394981 rows x 65 columns]"
      ]
     },
     "execution_count": 9,
     "metadata": {},
     "output_type": "execute_result"
    }
   ],
   "source": [
    "# Import moves data\n",
    "df_moves = pd.read_csv('/Users/koplo/Documents/Chess/moves_evaluated.csv')\n",
    "df_moves"
   ]
  },
  {
   "cell_type": "code",
   "execution_count": 10,
   "id": "83b19f05",
   "metadata": {
    "scrolled": false
   },
   "outputs": [
    {
     "data": {
      "text/plain": [
       "Index(['game_id', 'move_no', 'move_no_pair', 'player', 'notation', 'move',\n",
       "       'from_square', 'to_square', 'piece', 'color', 'fen', 'is_check',\n",
       "       'is_check_mate', 'is_fifty_moves', 'is_fivefold_repetition',\n",
       "       'is_game_over', 'is_insufficient_material', 'white_count',\n",
       "       'black_count', 'white_pawn_count', 'black_pawn_count',\n",
       "       'white_queen_count', 'black_queen_count', 'white_black_count',\n",
       "       'black_bishop_count', 'white_knight_count', 'black_knight_count',\n",
       "       'white_rook_count', 'black_rook_count', 'captured_score_for_white',\n",
       "       'captured_score_for_black', 'fen_row1_white_count',\n",
       "       'fen_row2_white_count', 'fen_row3_white_count', 'fen_row4_white_count',\n",
       "       'fen_row5_white_count', 'fen_row6_white_count', 'fen_row7_white_count',\n",
       "       'fen_row8_white_count', 'fen_row1_white_value', 'fen_row2_white_value',\n",
       "       'fen_row3_white_value', 'fen_row4_white_value', 'fen_row5_white_value',\n",
       "       'fen_row6_white_value', 'fen_row7_white_value', 'fen_row8_white_value',\n",
       "       'fen_row1_black_count', 'fen_row2_black_count', 'fen_row3_black_count',\n",
       "       'fen_row4_black_count', 'fen_row5_black_count', 'fen_row6_black_count',\n",
       "       'fen_row7_black_count', 'fen_row8_black_count', 'fen_row1_black_value',\n",
       "       'fen_row2_black_value', 'fen_row3_black_value', 'fen_row4_black_value',\n",
       "       'fen_row5_black_value', 'fen_row6_black_value', 'fen_row7_black_value',\n",
       "       'fen_row8_black_value', 'move_sequence', 'evaluation'],\n",
       "      dtype='object')"
      ]
     },
     "execution_count": 10,
     "metadata": {},
     "output_type": "execute_result"
    }
   ],
   "source": [
    "df_moves.columns"
   ]
  },
  {
   "cell_type": "code",
   "execution_count": 11,
   "id": "29ea0c71",
   "metadata": {
    "scrolled": false
   },
   "outputs": [
    {
     "data": {
      "text/plain": [
       "(389202, 65)"
      ]
     },
     "execution_count": 11,
     "metadata": {},
     "output_type": "execute_result"
    }
   ],
   "source": [
    "# Clear the game that were cleared from the games data\n",
    "df_moves = df_moves[df_moves.game_id.isin(df_games.game_id)]\n",
    "df_moves.shape\n"
   ]
  },
  {
   "cell_type": "code",
   "execution_count": 12,
   "id": "1d61350c",
   "metadata": {},
   "outputs": [
    {
     "data": {
      "text/plain": [
       "0         +43\n",
       "1         +34\n",
       "2         +14\n",
       "3         +35\n",
       "4         +52\n",
       "         ... \n",
       "394976    #-2\n",
       "394977    #-2\n",
       "394978    #-1\n",
       "394979    #-1\n",
       "394980    #-0\n",
       "Name: evaluation, Length: 389202, dtype: object"
      ]
     },
     "execution_count": 12,
     "metadata": {},
     "output_type": "execute_result"
    }
   ],
   "source": [
    "df_moves['evaluation']"
   ]
  },
  {
   "cell_type": "code",
   "execution_count": 13,
   "id": "10bc111b",
   "metadata": {
    "scrolled": false
   },
   "outputs": [],
   "source": [
    "# Turn the evaluation score to integer, if there is mate set the evaluation to 10000\n",
    "def to_num(row):\n",
    "    if '#' not in row['evaluation'] and row['evaluation'] != 'nan':\n",
    "        return pd.to_numeric(row['evaluation'])\n",
    "    elif '-' in row['evaluation']:\n",
    "        return -10000\n",
    "    return 10000\n",
    "df_moves = df_moves.assign(evaluation = df_moves.apply(lambda row: to_num(row), axis = 1))"
   ]
  },
  {
   "cell_type": "code",
   "execution_count": 14,
   "id": "58f38400",
   "metadata": {
    "scrolled": false
   },
   "outputs": [],
   "source": [
    "# Split the moves by game id and calculate average evaluation for both players for each game\n",
    "def calc_avg_eval(df):\n",
    "    evals = df['evaluation']\n",
    "    white_eval_diff = []\n",
    "    black_eval_diff = []\n",
    "    turn = True # True for White, False for Black\n",
    "    lasteval = 0\n",
    "    for eval in evals:\n",
    "        if turn:\n",
    "            white_eval_diff.append(max(lasteval - eval, 0))\n",
    "        else:\n",
    "            black_eval_diff.append(max(eval - lasteval, 0))\n",
    "        lasteval = eval\n",
    "        turn = not turn\n",
    "    df['white_eval'] = round(sum(white_eval_diff) / len(white_eval_diff))\n",
    "    df['black_eval'] = round(sum(black_eval_diff) / len(black_eval_diff))\n",
    "    return df\n",
    "\n",
    "data = df_moves.groupby('game_id')['evaluation'].apply(list).reset_index()    \n",
    "eval_avg = data.apply(calc_avg_eval, axis=1)\n",
    "df_games = pd.merge(df_games, eval_avg, on='game_id')"
   ]
  },
  {
   "cell_type": "code",
   "execution_count": 15,
   "id": "b9868bbb",
   "metadata": {
    "scrolled": false
   },
   "outputs": [],
   "source": [
    "# Add the difference in evaluation between the players, and the range for visualisation\n",
    "def eval_diff(row):\n",
    "    if row['white'] == 'username':\n",
    "        return row['white_eval'] - row['black_eval']\n",
    "    return row['black_eval'] - row['white_eval']\n",
    "def eval_diff_range(row):\n",
    "    if row['eval_diff'] < -75.0:\n",
    "        return 'less than -75'\n",
    "    elif row['eval_diff'] >= -75.0 and row['eval_diff'] < 0.0:\n",
    "        return '-75 - 0'\n",
    "    elif row['eval_diff'] >= 0.0 and row['eval_diff'] < 75.0:\n",
    "        return '0 - 75'\n",
    "    elif row['eval_diff'] >= 75.0:\n",
    "        return 'more than 75'\n",
    "\n",
    "df_games['eval_diff'] = df_games.apply(lambda row: eval_diff(row), axis=1)\n",
    "df_games['eval_diff_range'] = df_games.apply(lambda row: eval_diff_range(row), axis = 1)"
   ]
  },
  {
   "cell_type": "code",
   "execution_count": 16,
   "id": "62ae383a",
   "metadata": {
    "scrolled": false
   },
   "outputs": [
    {
     "data": {
      "text/plain": [
       "Index(['game_id', 'game_order', 'event', 'site', 'date_played', 'round',\n",
       "       'white', 'black', 'result', 'white_elo', 'white_rating_diff',\n",
       "       'black_elo', 'black_rating_diff', 'white_title', 'black_title',\n",
       "       'winner', 'winner_elo', 'loser', 'loser_elo', 'winner_loser_elo_diff',\n",
       "       'eco', 'termination', 'time_control', 'utc_date', 'utc_time', 'variant',\n",
       "       'ply_count', 'date_created', 'file_name', 'opening', 'result_type',\n",
       "       'elo_diff', 'white_opening', 'black_opening', 'my_elo', 'my_color',\n",
       "       'elo_diff_range', 'evaluation', 'white_eval', 'black_eval', 'eval_diff',\n",
       "       'eval_diff_range'],\n",
       "      dtype='object')"
      ]
     },
     "execution_count": 16,
     "metadata": {},
     "output_type": "execute_result"
    }
   ],
   "source": [
    "df_games.columns"
   ]
  },
  {
   "cell_type": "code",
   "execution_count": 17,
   "id": "b82c6202",
   "metadata": {
    "scrolled": false
   },
   "outputs": [
    {
     "data": {
      "text/plain": [
       "<AxesSubplot:xlabel='date_played'>"
      ]
     },
     "execution_count": 17,
     "metadata": {},
     "output_type": "execute_result"
    },
    {
     "data": {
      "image/png": "[encoded data removed]",
      "text/plain": [
       "<Figure size 432x288 with 1 Axes>"
      ]
     },
     "metadata": {
      "needs_background": "light"
     },
     "output_type": "display_data"
    }
   ],
   "source": [
    "# Visualise the player's elo level over time\n",
    "df_games.sort_values('date_played').plot(y = 'my_elo', x = 'date_played', kind = 'line')"
   ]
  },
  {
   "cell_type": "code",
   "execution_count": 18,
   "id": "594b6550",
   "metadata": {
    "scrolled": false
   },
   "outputs": [
    {
     "name": "stdout",
     "output_type": "stream",
     "text": [
      "graph for white_opening\n"
     ]
    },
    {
     "data": {
      "image/png": "[encoded data removed]",
      "text/plain": [
       "<Figure size 432x288 with 1 Axes>"
      ]
     },
     "metadata": {
      "needs_background": "light"
     },
     "output_type": "display_data"
    },
    {
     "name": "stdout",
     "output_type": "stream",
     "text": [
      "graph for black_opening\n"
     ]
    },
    {
     "data": {
      "image/png": "[encoded data removed]",
      "text/plain": [
       "<Figure size 432x288 with 1 Axes>"
      ]
     },
     "metadata": {
      "needs_background": "light"
     },
     "output_type": "display_data"
    },
    {
     "name": "stdout",
     "output_type": "stream",
     "text": [
      "graph for elo_diff_range\n"
     ]
    },
    {
     "data": {
      "image/png": "[encoded data removed]",
      "text/plain": [
       "<Figure size 432x288 with 1 Axes>"
      ]
     },
     "metadata": {
      "needs_background": "light"
     },
     "output_type": "display_data"
    },
    {
     "name": "stdout",
     "output_type": "stream",
     "text": [
      "graph for eval_diff_range\n"
     ]
    },
    {
     "data": {
      "image/png": "[encoded data removed]",
      "text/plain": [
       "<Figure size 432x288 with 1 Axes>"
      ]
     },
     "metadata": {
      "needs_background": "light"
     },
     "output_type": "display_data"
    },
    {
     "name": "stdout",
     "output_type": "stream",
     "text": [
      "graph for my_color\n"
     ]
    },
    {
     "data": {
      "image/png": "[encoded data removed]",
      "text/plain": [
       "<Figure size 432x288 with 1 Axes>"
      ]
     },
     "metadata": {
      "needs_background": "light"
     },
     "output_type": "display_data"
    }
   ],
   "source": [
    "# Visualize winrate ratio according to openings, difference in evaluation and elo and color\n",
    "columns = ['white_opening', 'black_opening', 'elo_diff_range', 'eval_diff_range', 'my_color']\n",
    "for column in columns:\n",
    "    data = df_games[[column, 'result_type']].value_counts().to_frame().reset_index()\n",
    "    data.columns = [column, 'result_type', 'count']\n",
    "    data = pd.pivot_table(data, \n",
    "                      index = column, \n",
    "                      columns = 'result_type', \n",
    "                      values = 'count', \n",
    "                      fill_value = 0)\n",
    "    print(\"graph for %s\" % (column))\n",
    "    data.nlargest(20, ['win', 'loss', 'draw'], keep='first').plot(kind = 'bar')\n",
    "    plt.show()"
   ]
  }
 ],
 "metadata": {
  "kernelspec": {
   "display_name": "Python 3 (ipykernel)",
   "language": "python",
   "name": "python3"
  },
  "language_info": {
   "codemirror_mode": {
    "name": "ipython",
    "version": 3
   },
   "file_extension": ".py",
   "mimetype": "text/x-python",
   "name": "python",
   "nbconvert_exporter": "python",
   "pygments_lexer": "ipython3",
   "version": "3.8.10"
  }
 },
 "nbformat": 4,
 "nbformat_minor": 5
}
 
