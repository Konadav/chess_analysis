{
 "cells": [
  {
   "cell_type": "code",
   "execution_count": 1,
   "id": "e1bb26fb",
   "metadata": {},
   "outputs": [],
   "source": [
    "import numpy as np\n",
    "import pandas as pd"
   ]
  },
  {
   "cell_type": "code",
   "execution_count": 2,
   "id": "180500be",
   "metadata": {},
   "outputs": [
    {
     "data": {
      "text/html": [
       "<div>\n",
       "<style scoped>\n",
       "    .dataframe tbody tr th:only-of-type {\n",
       "        vertical-align: middle;\n",
       "    }\n",
       "\n",
       "    .dataframe tbody tr th {\n",
       "        vertical-align: top;\n",
       "    }\n",
       "\n",
       "    .dataframe thead th {\n",
       "        text-align: right;\n",
       "    }\n",
       "</style>\n",
       "<table border=\"1\" class=\"dataframe\">\n",
       "  <thead>\n",
       "    <tr style=\"text-align: right;\">\n",
       "      <th></th>\n",
       "      <th>game_id</th>\n",
       "      <th>game_order</th>\n",
       "      <th>event</th>\n",
       "      <th>site</th>\n",
       "      <th>date_played</th>\n",
       "      <th>round</th>\n",
       "      <th>white</th>\n",
       "      <th>black</th>\n",
       "      <th>result</th>\n",
       "      <th>white_elo</th>\n",
       "      <th>...</th>\n",
       "      <th>winner_loser_elo_diff</th>\n",
       "      <th>eco</th>\n",
       "      <th>termination</th>\n",
       "      <th>time_control</th>\n",
       "      <th>utc_date</th>\n",
       "      <th>utc_time</th>\n",
       "      <th>variant</th>\n",
       "      <th>ply_count</th>\n",
       "      <th>date_created</th>\n",
       "      <th>file_name</th>\n",
       "    </tr>\n",
       "  </thead>\n",
       "  <tbody>\n",
       "    <tr>\n",
       "      <th>0</th>\n",
       "      <td>58887a86-5c84-45ac-b959-c72377a2dfd3</td>\n",
       "      <td>1</td>\n",
       "      <td>Rated Rapid game</td>\n",
       "      <td>https://lichess.org/hvfE6FOz</td>\n",
       "      <td>2021.09.22</td>\n",
       "      <td>?</td>\n",
       "      <td>awfedorable</td>\n",
       "      <td>K0P0L0</td>\n",
       "      <td>0-1</td>\n",
       "      <td>1963</td>\n",
       "      <td>...</td>\n",
       "      <td>-74</td>\n",
       "      <td>B33</td>\n",
       "      <td>Normal</td>\n",
       "      <td>600+0</td>\n",
       "      <td>2021.09.22</td>\n",
       "      <td>18:21:58</td>\n",
       "      <td>Standard</td>\n",
       "      <td>NaN</td>\n",
       "      <td>2021-09-23T06:37:01+0000</td>\n",
       "      <td>game.pgn</td>\n",
       "    </tr>\n",
       "    <tr>\n",
       "      <th>1</th>\n",
       "      <td>aadc9778-0bad-4f79-90c5-569e09efb592</td>\n",
       "      <td>2</td>\n",
       "      <td>Rated Rapid game</td>\n",
       "      <td>https://lichess.org/7TtUO2i1</td>\n",
       "      <td>2021.09.22</td>\n",
       "      <td>?</td>\n",
       "      <td>K0P0L0</td>\n",
       "      <td>kaffeberra</td>\n",
       "      <td>1-0</td>\n",
       "      <td>1883</td>\n",
       "      <td>...</td>\n",
       "      <td>37</td>\n",
       "      <td>C41</td>\n",
       "      <td>Normal</td>\n",
       "      <td>600+0</td>\n",
       "      <td>2021.09.22</td>\n",
       "      <td>18:12:31</td>\n",
       "      <td>Standard</td>\n",
       "      <td>NaN</td>\n",
       "      <td>2021-09-23T06:37:01+0000</td>\n",
       "      <td>game.pgn</td>\n",
       "    </tr>\n",
       "    <tr>\n",
       "      <th>2</th>\n",
       "      <td>1095f764-8e18-4a29-a9fd-6e9e497a5314</td>\n",
       "      <td>3</td>\n",
       "      <td>Rated Rapid game</td>\n",
       "      <td>https://lichess.org/xNfCZlPq</td>\n",
       "      <td>2021.09.22</td>\n",
       "      <td>?</td>\n",
       "      <td>K0P0L0</td>\n",
       "      <td>amingh68</td>\n",
       "      <td>1-0</td>\n",
       "      <td>1878</td>\n",
       "      <td>...</td>\n",
       "      <td>28</td>\n",
       "      <td>B12</td>\n",
       "      <td>Normal</td>\n",
       "      <td>600+0</td>\n",
       "      <td>2021.09.22</td>\n",
       "      <td>18:00:24</td>\n",
       "      <td>Standard</td>\n",
       "      <td>NaN</td>\n",
       "      <td>2021-09-23T06:37:01+0000</td>\n",
       "      <td>game.pgn</td>\n",
       "    </tr>\n",
       "    <tr>\n",
       "      <th>3</th>\n",
       "      <td>44978ca9-381d-484b-a372-c7f6a16dc125</td>\n",
       "      <td>4</td>\n",
       "      <td>Rated Rapid game</td>\n",
       "      <td>https://lichess.org/9yvXxjGy</td>\n",
       "      <td>2021.09.22</td>\n",
       "      <td>?</td>\n",
       "      <td>K0P0L0</td>\n",
       "      <td>synergylove</td>\n",
       "      <td>1-0</td>\n",
       "      <td>1871</td>\n",
       "      <td>...</td>\n",
       "      <td>-53</td>\n",
       "      <td>B12</td>\n",
       "      <td>Normal</td>\n",
       "      <td>600+0</td>\n",
       "      <td>2021.09.22</td>\n",
       "      <td>17:44:10</td>\n",
       "      <td>Standard</td>\n",
       "      <td>NaN</td>\n",
       "      <td>2021-09-23T06:37:01+0000</td>\n",
       "      <td>game.pgn</td>\n",
       "    </tr>\n",
       "    <tr>\n",
       "      <th>4</th>\n",
       "      <td>7facda9f-1d81-4bc3-9f85-d607a17eca72</td>\n",
       "      <td>5</td>\n",
       "      <td>Rated Rapid game</td>\n",
       "      <td>https://lichess.org/SjlKy449</td>\n",
       "      <td>2021.09.22</td>\n",
       "      <td>?</td>\n",
       "      <td>Bakery_Maggot</td>\n",
       "      <td>K0P0L0</td>\n",
       "      <td>1-0</td>\n",
       "      <td>1850</td>\n",
       "      <td>...</td>\n",
       "      <td>-27</td>\n",
       "      <td>A46</td>\n",
       "      <td>Normal</td>\n",
       "      <td>600+0</td>\n",
       "      <td>2021.09.22</td>\n",
       "      <td>17:36:25</td>\n",
       "      <td>Standard</td>\n",
       "      <td>NaN</td>\n",
       "      <td>2021-09-23T06:37:01+0000</td>\n",
       "      <td>game.pgn</td>\n",
       "    </tr>\n",
       "  </tbody>\n",
       "</table>\n",
       "<p>5 rows × 29 columns</p>\n",
       "</div>"
      ],
      "text/plain": [
       "                                game_id  game_order             event  \\\n",
       "0  58887a86-5c84-45ac-b959-c72377a2dfd3           1  Rated Rapid game   \n",
       "1  aadc9778-0bad-4f79-90c5-569e09efb592           2  Rated Rapid game   \n",
       "2  1095f764-8e18-4a29-a9fd-6e9e497a5314           3  Rated Rapid game   \n",
       "3  44978ca9-381d-484b-a372-c7f6a16dc125           4  Rated Rapid game   \n",
       "4  7facda9f-1d81-4bc3-9f85-d607a17eca72           5  Rated Rapid game   \n",
       "\n",
       "                           site date_played round          white        black  \\\n",
       "0  https://lichess.org/hvfE6FOz  2021.09.22     ?    awfedorable       K0P0L0   \n",
       "1  https://lichess.org/7TtUO2i1  2021.09.22     ?         K0P0L0   kaffeberra   \n",
       "2  https://lichess.org/xNfCZlPq  2021.09.22     ?         K0P0L0     amingh68   \n",
       "3  https://lichess.org/9yvXxjGy  2021.09.22     ?         K0P0L0  synergylove   \n",
       "4  https://lichess.org/SjlKy449  2021.09.22     ?  Bakery_Maggot       K0P0L0   \n",
       "\n",
       "  result white_elo  ...  winner_loser_elo_diff  eco  termination  \\\n",
       "0    0-1      1963  ...                    -74  B33       Normal   \n",
       "1    1-0      1883  ...                     37  C41       Normal   \n",
       "2    1-0      1878  ...                     28  B12       Normal   \n",
       "3    1-0      1871  ...                    -53  B12       Normal   \n",
       "4    1-0      1850  ...                    -27  A46       Normal   \n",
       "\n",
       "   time_control    utc_date  utc_time   variant ply_count  \\\n",
       "0         600+0  2021.09.22  18:21:58  Standard       NaN   \n",
       "1         600+0  2021.09.22  18:12:31  Standard       NaN   \n",
       "2         600+0  2021.09.22  18:00:24  Standard       NaN   \n",
       "3         600+0  2021.09.22  17:44:10  Standard       NaN   \n",
       "4         600+0  2021.09.22  17:36:25  Standard       NaN   \n",
       "\n",
       "               date_created  file_name  \n",
       "0  2021-09-23T06:37:01+0000   game.pgn  \n",
       "1  2021-09-23T06:37:01+0000   game.pgn  \n",
       "2  2021-09-23T06:37:01+0000   game.pgn  \n",
       "3  2021-09-23T06:37:01+0000   game.pgn  \n",
       "4  2021-09-23T06:37:01+0000   game.pgn  \n",
       "\n",
       "[5 rows x 29 columns]"
      ]
     },
     "execution_count": 2,
     "metadata": {},
     "output_type": "execute_result"
    }
   ],
   "source": [
    "# Import games data\n",
    "df_games = pd.read_csv('/Users/koplo/Documents/chess_analysis_proj/game_game_info.csv')\n",
    "df_games.head()"
   ]
  },
  {
   "cell_type": "code",
   "execution_count": 3,
   "id": "3513741b",
   "metadata": {},
   "outputs": [
    {
     "data": {
      "text/plain": [
       "Index(['game_id', 'game_order', 'event', 'site', 'date_played', 'round',\n",
       "       'white', 'black', 'result', 'white_elo', 'white_rating_diff',\n",
       "       'black_elo', 'black_rating_diff', 'white_title', 'black_title',\n",
       "       'winner', 'winner_elo', 'loser', 'loser_elo', 'winner_loser_elo_diff',\n",
       "       'eco', 'termination', 'time_control', 'utc_date', 'utc_time', 'variant',\n",
       "       'ply_count', 'date_created', 'file_name'],\n",
       "      dtype='object')"
      ]
     },
     "execution_count": 3,
     "metadata": {},
     "output_type": "execute_result"
    }
   ],
   "source": [
    "df_games.columns"
   ]
  },
  {
   "cell_type": "code",
   "execution_count": 4,
   "id": "a818818c",
   "metadata": {},
   "outputs": [
    {
     "data": {
      "text/plain": [
       "event\n",
       "Rated Blitz game        6117\n",
       "Rated Bullet game        455\n",
       "Rated Rapid game         198\n",
       "Rated Classical game      12\n",
       "dtype: int64"
      ]
     },
     "execution_count": 4,
     "metadata": {},
     "output_type": "execute_result"
    }
   ],
   "source": [
    "# Clean the dataframe from unnecessary events\n",
    "df_games = df_games[((df_games['event'] == 'Rated Blitz game') \n",
    "    | (df_games['event'] == 'Rated Bullet game')\n",
    "    | (df_games['event'] == 'Rated Rapid game') \n",
    "    | (df_games['event'] == 'Rated Classical game'))]\n",
    "df_games.value_counts('event')"
   ]
  },
  {
   "cell_type": "code",
   "execution_count": 5,
   "id": "05eb43e9",
   "metadata": {},
   "outputs": [
    {
     "data": {
      "text/plain": [
       "game_id                   object\n",
       "game_order                 int64\n",
       "event                     object\n",
       "site                      object\n",
       "date_played               object\n",
       "round                     object\n",
       "white                     object\n",
       "black                     object\n",
       "result                    object\n",
       "white_elo                  int64\n",
       "white_rating_diff        float64\n",
       "black_elo                  int64\n",
       "black_rating_diff        float64\n",
       "white_title              float64\n",
       "black_title              float64\n",
       "winner                    object\n",
       "winner_elo               float64\n",
       "loser                     object\n",
       "loser_elo                float64\n",
       "winner_loser_elo_diff      int64\n",
       "eco                       object\n",
       "termination               object\n",
       "time_control              object\n",
       "utc_date                  object\n",
       "utc_time                  object\n",
       "variant                   object\n",
       "ply_count                float64\n",
       "date_created              object\n",
       "file_name                 object\n",
       "dtype: object"
      ]
     },
     "execution_count": 5,
     "metadata": {},
     "output_type": "execute_result"
    }
   ],
   "source": [
    "# Set columns to correct types\n",
    "df_games[['white_elo', 'black_elo', 'winner_elo', 'loser_elo']] = df_games[['white_elo', 'black_elo',\n",
    "                                                                'winner_elo', 'loser_elo']].apply(pd.to_numeric)\n",
    "df_games.dtypes"
   ]
  },
  {
   "cell_type": "code",
   "execution_count": 6,
   "id": "705399d0",
   "metadata": {},
   "outputs": [
    {
     "data": {
      "text/plain": [
       "Index(['game_id', 'game_order', 'event', 'site', 'date_played', 'round',\n",
       "       'white', 'black', 'result', 'white_elo', 'white_rating_diff',\n",
       "       'black_elo', 'black_rating_diff', 'white_title', 'black_title',\n",
       "       'winner', 'winner_elo', 'loser', 'loser_elo', 'winner_loser_elo_diff',\n",
       "       'eco', 'termination', 'time_control', 'utc_date', 'utc_time', 'variant',\n",
       "       'ply_count', 'date_created', 'file_name', 'result_type', 'elo_diff',\n",
       "       'white_opening', 'black_opening', 'my_elo'],\n",
       "      dtype='object')"
      ]
     },
     "execution_count": 6,
     "metadata": {},
     "output_type": "execute_result"
    }
   ],
   "source": [
    "# Add useful columns to the dataframe\n",
    "username = 'K0P0L0'\n",
    "def label_result_type(row):\n",
    "    if row['winner'] == username:\n",
    "        return 'win'\n",
    "    if row['winner'] == 'draw':\n",
    "        return 'draw'\n",
    "    return 'loss'\n",
    "def label_elo_diff(row):\n",
    "    if row['white'] == username:\n",
    "        return row['white_elo'] - row['black_elo']\n",
    "    return row['black_elo'] - row['white_elo']\n",
    "def label_opening(row, color):\n",
    "    if row[color] == username:\n",
    "        return row['eco']\n",
    "    return None\n",
    "def my_elo(row):\n",
    "    if row['white'] == username:\n",
    "        return row['white_elo']\n",
    "    return row['black_elo']\n",
    "\n",
    "df_games['result_type'] = df_games.apply(lambda row: label_result_type(row), axis = 1)\n",
    "df_games['elo_diff'] = df_games.apply(lambda row: label_elo_diff(row), axis = 1)\n",
    "df_games['white_opening'] = df_games.apply(lambda row: label_opening(row, 'white'), axis = 1)\n",
    "df_games['black_opening'] = df_games.apply(lambda row: label_opening(row, 'black'), axis = 1) \n",
    "df_games['my_elo'] = df_games.apply(lambda row: my_elo(row), axis = 1)\n",
    "df_games.columns"
   ]
  },
  {
   "cell_type": "code",
   "execution_count": 7,
   "id": "49cf34b2",
   "metadata": {},
   "outputs": [
    {
     "data": {
      "text/plain": [
       "<AxesSubplot:xlabel='date_played'>"
      ]
     },
     "execution_count": 7,
     "metadata": {},
     "output_type": "execute_result"
    },
    {
     "data": {
      "image/png": "[encoded data removed]",
      "text/plain": [
       "<Figure size 432x288 with 1 Axes>"
      ]
     },
     "metadata": {
      "needs_background": "light"
     },
     "output_type": "display_data"
    }
   ],
   "source": [
    "# Visualise the player's elo level over time\n",
    "df_games.sort_values('date_played').plot(y = 'my_elo', x = 'date_played', kind = 'line')"
   ]
  },
  {
   "cell_type": "code",
   "execution_count": 8,
   "id": "038e79b7",
   "metadata": {},
   "outputs": [
    {
     "data": {
      "text/plain": [
       "<AxesSubplot:xlabel='white_opening'>"
      ]
     },
     "execution_count": 8,
     "metadata": {},
     "output_type": "execute_result"
    },
    {
     "data": {
      "image/png": "[encoded data removed]",
      "text/plain": [
       "<Figure size 432x288 with 1 Axes>"
      ]
     },
     "metadata": {
      "needs_background": "light"
     },
     "output_type": "display_data"
    }
   ],
   "source": [
    "# Visualise the winrate ratio of the player's most played white openings\n",
    "data = df_games[['white_opening', 'result_type']].value_counts().to_frame().reset_index()\n",
    "data.columns = ['white_opening', 'result_type', 'count']\n",
    "data = pd.pivot_table(data, \n",
    "                      index = 'white_opening', \n",
    "                      columns = 'result_type', \n",
    "                      values = 'count', \n",
    "                      fill_value = 0)\n",
    "data.nlargest(10, ['win', 'loss', 'draw'], keep='first').plot(kind = 'bar')"
   ]
  },
  {
   "cell_type": "code",
   "execution_count": 9,
   "id": "a487d89d",
   "metadata": {},
   "outputs": [
    {
     "data": {
      "text/plain": [
       "<AxesSubplot:xlabel='black_opening'>"
      ]
     },
     "execution_count": 9,
     "metadata": {},
     "output_type": "execute_result"
    },
    {
     "data": {
      "image/png": "[encoded data removed]",
      "text/plain": [
       "<Figure size 432x288 with 1 Axes>"
      ]
     },
     "metadata": {
      "needs_background": "light"
     },
     "output_type": "display_data"
    }
   ],
   "source": [
    "# Visualise the winrate ratio of the player's most played black openings\n",
    "data = df_games[['black_opening', 'result_type']].value_counts().to_frame().reset_index()\n",
    "data.columns = ['black_opening', 'result_type', 'count']\n",
    "data = pd.pivot_table(data, \n",
    "                      index = 'black_opening', \n",
    "                      columns = 'result_type', \n",
    "                      values = 'count', \n",
    "                      fill_value = 0)\n",
    "data.nlargest(10, ['win', 'loss', 'draw'], keep='first').plot(kind = 'bar')"
   ]
  },
  {
   "cell_type": "code",
   "execution_count": 10,
   "id": "de5378af",
   "metadata": {},
   "outputs": [
    {
     "data": {
      "text/plain": [
       "<AxesSubplot:xlabel='elo_diff'>"
      ]
     },
     "execution_count": 10,
     "metadata": {},
     "output_type": "execute_result"
    },
    {
     "data": {
      "image/png": "[encoded data removed]",
      "text/plain": [
       "<Figure size 432x288 with 1 Axes>"
      ]
     },
     "metadata": {
      "needs_background": "light"
     },
     "output_type": "display_data"
    }
   ],
   "source": [
    "# Visualise the winrate ratio of the player's games based on opponnent's relative strength\n",
    "def elo_diff_range(row):\n",
    "    if row['elo_diff'] < -20.0:\n",
    "        return 'less than -20'\n",
    "    elif row['elo_diff'] >= -20.0 and row['elo_diff'] < 0.0:\n",
    "        return '-20 - 0'\n",
    "    elif row['elo_diff'] >= 0.0 and row['elo_diff'] < 20.0:\n",
    "        return '0 - 20'\n",
    "    elif row['elo_diff'] >= 20.0:\n",
    "        return 'more than 20'\n",
    "\n",
    "df_games['elo_diff_range'] = df_games.apply(lambda row: elo_diff_range(row), axis = 1)\n",
    "data = df_games[['elo_diff_range', 'result_type']].value_counts().to_frame().reset_index()\n",
    "data.columns = ['elo_diff', 'result_type', 'count']\n",
    "# Sort the values by the desired order\n",
    "data.elo_diff = data.elo_diff.astype('category').cat.set_categories(\n",
    "    ['less than -20', '-20 - 0', '0 - 20', 'more than 20'])\n",
    "data = data.sort_values('elo_diff')\n",
    "pd.pivot_table(data, \n",
    "                      index = 'elo_diff', \n",
    "                      columns = 'result_type', \n",
    "                      values = 'count', \n",
    "                      fill_value = 0).plot(kind = 'bar')"
   ]
  },
  {
   "cell_type": "code",
   "execution_count": null,
   "id": "37fc4f3c",
   "metadata": {},
   "outputs": [],
   "source": []
  }
 ],
 "metadata": {
  "kernelspec": {
   "display_name": "Python 3 (ipykernel)",
   "language": "python",
   "name": "python3"
  },
  "language_info": {
   "codemirror_mode": {
    "name": "ipython",
    "version": 3
   },
   "file_extension": ".py",
   "mimetype": "text/x-python",
   "name": "python",
   "nbconvert_exporter": "python",
   "pygments_lexer": "ipython3",
   "version": "3.8.10"
  }
 },
 "nbformat": 4,
 "nbformat_minor": 5
}
